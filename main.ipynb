{
 "metadata": {
  "language_info": {
   "codemirror_mode": {
    "name": "ipython",
    "version": 3
   },
   "file_extension": ".py",
   "mimetype": "text/x-python",
   "name": "python",
   "nbconvert_exporter": "python",
   "pygments_lexer": "ipython3",
   "version": "3.8.3-final"
  },
  "orig_nbformat": 2,
  "kernelspec": {
   "name": "python3",
   "display_name": "Python 3"
  }
 },
 "nbformat": 4,
 "nbformat_minor": 2,
 "cells": [
  {
   "cell_type": "code",
   "execution_count": 1,
   "metadata": {},
   "outputs": [],
   "source": [
    "# import modules\n",
    "import numpy as np "
   ]
  },
  {
   "cell_type": "code",
   "execution_count": 2,
   "metadata": {
    "tags": []
   },
   "outputs": [
    {
     "output_type": "stream",
     "name": "stdout",
     "text": "[  0.  10.  20.  30.  40.  50.  60.  70.  80.  90. 100.]\n[ 0.          3.16227766  4.47213595  5.47722558  6.32455532  7.07106781\n  7.74596669  8.36660027  8.94427191  9.48683298 10.        ]\n"
    }
   ],
   "source": [
    "# generate random data which basically performs square root function\n",
    "Nargs = 11\n",
    "sample_args = np.linspace(0,100,Nargs)\n",
    "sample_vals = np.sqrt(sample_args)\n",
    "print(sample_args)\n",
    "print(sample_vals)\n"
   ]
  },
  {
   "cell_type": "code",
   "execution_count": 3,
   "metadata": {},
   "outputs": [],
   "source": [
    "# write generated data to file for further reading\n",
    "filename = \"sample_data.txt\"\n",
    "np.savetxt(filename, np.column_stack((sample_args, sample_vals)))\n"
   ]
  },
  {
   "cell_type": "code",
   "execution_count": 4,
   "metadata": {
    "tags": []
   },
   "outputs": [
    {
     "output_type": "stream",
     "name": "stdout",
     "text": "\n\n--> All data loaded and arguments and values are stored in seperate arrays: \n\n[  0.  10.  20.  30.  40.  50.  60.  70.  80.  90. 100.]\n[ 0.          3.16227766  4.47213595  5.47722558  6.32455532  7.07106781\n  7.74596669  8.36660027  8.94427191  9.48683298 10.        ]\n"
    }
   ],
   "source": [
    "# load all data from file\n",
    "args, vals = np.loadtxt(filename, unpack=True)\n",
    "print(\"\\n\\n--> All data loaded and arguments and values are stored in seperate arrays: \\n\")\n",
    "print(args)\n",
    "print(vals)"
   ]
  },
  {
   "cell_type": "code",
   "execution_count": 5,
   "metadata": {
    "tags": []
   },
   "outputs": [
    {
     "output_type": "stream",
     "name": "stdout",
     "text": "\n\n--> Only value column is loaded from file: \n\n[ 0.          3.16227766  4.47213595  5.47722558  6.32455532  7.07106781\n  7.74596669  8.36660027  8.94427191  9.48683298 10.        ]\n"
    }
   ],
   "source": [
    "# grab only values\n",
    "vals = np.loadtxt(filename, usecols=(1))\n",
    "print(\"\\n\\n--> Only value column is loaded from file: \\n\")\n",
    "print(vals)"
   ]
  },
  {
   "cell_type": "code",
   "execution_count": 6,
   "metadata": {},
   "outputs": [],
   "source": [
    "# skip first 5 rows then load all\n",
    "'''first add dummy header to the file with new line below'''\n",
    "header = \"Dummy header for data file\"\n",
    "with open(\"sample_data.txt\", 'r+') as f:\n",
    "    content = f.read()\n",
    "    f.seek(0, 0)\n",
    "    f.write(header.rstrip('\\r\\n') + '\\n\\n' + content)"
   ]
  },
  {
   "cell_type": "code",
   "execution_count": 7,
   "metadata": {
    "tags": []
   },
   "outputs": [
    {
     "output_type": "stream",
     "name": "stdout",
     "text": "\n\n--> Header is ignored and only data is retrieved: \n\n[ 0.          3.16227766  4.47213595  5.47722558  6.32455532  7.07106781\n  7.74596669  8.36660027  8.94427191  9.48683298 10.        ]\n"
    }
   ],
   "source": [
    "vals = np.loadtxt(filename, usecols=(1), skiprows=2)\n",
    "print(\"\\n\\n--> Header is ignored and only data is retrieved: \\n\")\n",
    "print(vals)"
   ]
  },
  {
   "cell_type": "code",
   "execution_count": 8,
   "metadata": {
    "tags": []
   },
   "outputs": [
    {
     "output_type": "stream",
     "name": "stdout",
     "text": "\n\n--> Line datas between 6-8 loaded only: \n\n[7.07106781 7.74596669 8.36660027]\n"
    }
   ],
   "source": [
    "# load specific lines of file\n",
    "'''differently from above itertools to slice file portion'''\n",
    "vals = np.loadtxt(filename, usecols=(1), skiprows=7, max_rows=3)\n",
    "print(\"\\n\\n--> Line datas between 6-8 loaded only: \\n\")\n",
    "print(vals)"
   ]
  }
 ]
}